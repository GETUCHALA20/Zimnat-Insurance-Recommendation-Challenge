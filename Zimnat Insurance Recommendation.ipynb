{
 "cells": [
  {
   "cell_type": "markdown",
   "metadata": {},
   "source": [
    "# Zimnat Insurance Recommendation Challenge"
   ]
  },
  {
   "cell_type": "markdown",
   "metadata": {},
   "source": [
    "### Import libraries"
   ]
  },
  {
   "cell_type": "code",
   "execution_count": 1,
   "metadata": {},
   "outputs": [],
   "source": [
    "import numpy as np\n",
    "import pandas as pd\n",
    "import matplotlib.pyplot as plt\n",
    "import seaborn as sns\n",
    "from datetime import date"
   ]
  },
  {
   "cell_type": "code",
   "execution_count": 2,
   "metadata": {},
   "outputs": [
    {
     "name": "stdout",
     "output_type": "stream",
     "text": [
      "(29132, 29) (10000, 29) (210000, 2)\n"
     ]
    }
   ],
   "source": [
    "# read data to pandas \n",
    "train = pd.read_csv(\"data/Train.csv\")\n",
    "test = pd.read_csv(\"data/Test.csv\")\n",
    "submission = pd.read_csv(\"data/SampleSubmission.csv\")\n",
    "\n",
    "#print all dataset shape\n",
    "print(train.shape, test.shape,submission.shape)"
   ]
  },
  {
   "cell_type": "code",
   "execution_count": 3,
   "metadata": {},
   "outputs": [
    {
     "data": {
      "text/html": [
       "<div>\n",
       "<style scoped>\n",
       "    .dataframe tbody tr th:only-of-type {\n",
       "        vertical-align: middle;\n",
       "    }\n",
       "\n",
       "    .dataframe tbody tr th {\n",
       "        vertical-align: top;\n",
       "    }\n",
       "\n",
       "    .dataframe thead th {\n",
       "        text-align: right;\n",
       "    }\n",
       "</style>\n",
       "<table border=\"1\" class=\"dataframe\">\n",
       "  <thead>\n",
       "    <tr style=\"text-align: right;\">\n",
       "      <th></th>\n",
       "      <th>ID</th>\n",
       "      <th>join_date</th>\n",
       "      <th>sex</th>\n",
       "      <th>marital_status</th>\n",
       "      <th>birth_year</th>\n",
       "      <th>branch_code</th>\n",
       "      <th>occupation_code</th>\n",
       "      <th>occupation_category_code</th>\n",
       "      <th>P5DA</th>\n",
       "      <th>RIBP</th>\n",
       "      <th>...</th>\n",
       "      <th>AHXO</th>\n",
       "      <th>BSTQ</th>\n",
       "      <th>FM3X</th>\n",
       "      <th>K6QO</th>\n",
       "      <th>QBOL</th>\n",
       "      <th>JWFN</th>\n",
       "      <th>JZ9D</th>\n",
       "      <th>J9JW</th>\n",
       "      <th>GHYX</th>\n",
       "      <th>ECY3</th>\n",
       "    </tr>\n",
       "  </thead>\n",
       "  <tbody>\n",
       "    <tr>\n",
       "      <th>0</th>\n",
       "      <td>4WKQSBB</td>\n",
       "      <td>1/2/2019</td>\n",
       "      <td>F</td>\n",
       "      <td>M</td>\n",
       "      <td>1987</td>\n",
       "      <td>1X1H</td>\n",
       "      <td>2A7I</td>\n",
       "      <td>T4MS</td>\n",
       "      <td>0</td>\n",
       "      <td>0</td>\n",
       "      <td>...</td>\n",
       "      <td>0</td>\n",
       "      <td>0</td>\n",
       "      <td>0</td>\n",
       "      <td>1</td>\n",
       "      <td>0</td>\n",
       "      <td>0</td>\n",
       "      <td>0</td>\n",
       "      <td>0</td>\n",
       "      <td>0</td>\n",
       "      <td>0</td>\n",
       "    </tr>\n",
       "    <tr>\n",
       "      <th>1</th>\n",
       "      <td>CP5S02H</td>\n",
       "      <td>1/6/2019</td>\n",
       "      <td>F</td>\n",
       "      <td>M</td>\n",
       "      <td>1981</td>\n",
       "      <td>UAOD</td>\n",
       "      <td>2A7I</td>\n",
       "      <td>T4MS</td>\n",
       "      <td>0</td>\n",
       "      <td>0</td>\n",
       "      <td>...</td>\n",
       "      <td>0</td>\n",
       "      <td>0</td>\n",
       "      <td>0</td>\n",
       "      <td>1</td>\n",
       "      <td>0</td>\n",
       "      <td>0</td>\n",
       "      <td>0</td>\n",
       "      <td>0</td>\n",
       "      <td>0</td>\n",
       "      <td>0</td>\n",
       "    </tr>\n",
       "    <tr>\n",
       "      <th>2</th>\n",
       "      <td>2YKDILJ</td>\n",
       "      <td>1/6/2013</td>\n",
       "      <td>M</td>\n",
       "      <td>U</td>\n",
       "      <td>1991</td>\n",
       "      <td>748L</td>\n",
       "      <td>QZYX</td>\n",
       "      <td>90QI</td>\n",
       "      <td>0</td>\n",
       "      <td>0</td>\n",
       "      <td>...</td>\n",
       "      <td>0</td>\n",
       "      <td>0</td>\n",
       "      <td>0</td>\n",
       "      <td>0</td>\n",
       "      <td>0</td>\n",
       "      <td>0</td>\n",
       "      <td>0</td>\n",
       "      <td>0</td>\n",
       "      <td>0</td>\n",
       "      <td>1</td>\n",
       "    </tr>\n",
       "    <tr>\n",
       "      <th>3</th>\n",
       "      <td>2S9E81J</td>\n",
       "      <td>1/8/2019</td>\n",
       "      <td>M</td>\n",
       "      <td>M</td>\n",
       "      <td>1990</td>\n",
       "      <td>1X1H</td>\n",
       "      <td>BP09</td>\n",
       "      <td>56SI</td>\n",
       "      <td>0</td>\n",
       "      <td>0</td>\n",
       "      <td>...</td>\n",
       "      <td>0</td>\n",
       "      <td>0</td>\n",
       "      <td>0</td>\n",
       "      <td>1</td>\n",
       "      <td>0</td>\n",
       "      <td>0</td>\n",
       "      <td>0</td>\n",
       "      <td>0</td>\n",
       "      <td>0</td>\n",
       "      <td>0</td>\n",
       "    </tr>\n",
       "    <tr>\n",
       "      <th>4</th>\n",
       "      <td>BHDYVFT</td>\n",
       "      <td>1/8/2019</td>\n",
       "      <td>M</td>\n",
       "      <td>M</td>\n",
       "      <td>1990</td>\n",
       "      <td>748L</td>\n",
       "      <td>NO3L</td>\n",
       "      <td>T4MS</td>\n",
       "      <td>0</td>\n",
       "      <td>0</td>\n",
       "      <td>...</td>\n",
       "      <td>0</td>\n",
       "      <td>0</td>\n",
       "      <td>0</td>\n",
       "      <td>0</td>\n",
       "      <td>0</td>\n",
       "      <td>0</td>\n",
       "      <td>1</td>\n",
       "      <td>1</td>\n",
       "      <td>0</td>\n",
       "      <td>0</td>\n",
       "    </tr>\n",
       "  </tbody>\n",
       "</table>\n",
       "<p>5 rows × 29 columns</p>\n",
       "</div>"
      ],
      "text/plain": [
       "        ID join_date sex marital_status  birth_year branch_code  \\\n",
       "0  4WKQSBB  1/2/2019   F              M        1987        1X1H   \n",
       "1  CP5S02H  1/6/2019   F              M        1981        UAOD   \n",
       "2  2YKDILJ  1/6/2013   M              U        1991        748L   \n",
       "3  2S9E81J  1/8/2019   M              M        1990        1X1H   \n",
       "4  BHDYVFT  1/8/2019   M              M        1990        748L   \n",
       "\n",
       "  occupation_code occupation_category_code  P5DA  RIBP  ...  AHXO  BSTQ  FM3X  \\\n",
       "0            2A7I                     T4MS     0     0  ...     0     0     0   \n",
       "1            2A7I                     T4MS     0     0  ...     0     0     0   \n",
       "2            QZYX                     90QI     0     0  ...     0     0     0   \n",
       "3            BP09                     56SI     0     0  ...     0     0     0   \n",
       "4            NO3L                     T4MS     0     0  ...     0     0     0   \n",
       "\n",
       "   K6QO  QBOL  JWFN  JZ9D  J9JW  GHYX  ECY3  \n",
       "0     1     0     0     0     0     0     0  \n",
       "1     1     0     0     0     0     0     0  \n",
       "2     0     0     0     0     0     0     1  \n",
       "3     1     0     0     0     0     0     0  \n",
       "4     0     0     0     1     1     0     0  \n",
       "\n",
       "[5 rows x 29 columns]"
      ]
     },
     "execution_count": 3,
     "metadata": {},
     "output_type": "execute_result"
    }
   ],
   "source": [
    "# display top five rows\n",
    "train.head()"
   ]
  },
  {
   "cell_type": "code",
   "execution_count": 4,
   "metadata": {},
   "outputs": [
    {
     "name": "stdout",
     "output_type": "stream",
     "text": [
      "<class 'pandas.core.frame.DataFrame'>\n",
      "RangeIndex: 29132 entries, 0 to 29131\n",
      "Data columns (total 29 columns):\n",
      "ID                          29132 non-null object\n",
      "join_date                   29130 non-null object\n",
      "sex                         29132 non-null object\n",
      "marital_status              29132 non-null object\n",
      "birth_year                  29132 non-null int64\n",
      "branch_code                 29132 non-null object\n",
      "occupation_code             29132 non-null object\n",
      "occupation_category_code    29132 non-null object\n",
      "P5DA                        29132 non-null int64\n",
      "RIBP                        29132 non-null int64\n",
      "8NN1                        29132 non-null int64\n",
      "7POT                        29132 non-null int64\n",
      "66FJ                        29132 non-null int64\n",
      "GYSR                        29132 non-null int64\n",
      "SOP4                        29132 non-null int64\n",
      "RVSZ                        29132 non-null int64\n",
      "PYUQ                        29132 non-null int64\n",
      "LJR9                        29132 non-null int64\n",
      "N2MW                        29132 non-null int64\n",
      "AHXO                        29132 non-null int64\n",
      "BSTQ                        29132 non-null int64\n",
      "FM3X                        29132 non-null int64\n",
      "K6QO                        29132 non-null int64\n",
      "QBOL                        29132 non-null int64\n",
      "JWFN                        29132 non-null int64\n",
      "JZ9D                        29132 non-null int64\n",
      "J9JW                        29132 non-null int64\n",
      "GHYX                        29132 non-null int64\n",
      "ECY3                        29132 non-null int64\n",
      "dtypes: int64(22), object(7)\n",
      "memory usage: 6.4+ MB\n"
     ]
    }
   ],
   "source": [
    "#show data information\n",
    "train.info()"
   ]
  },
  {
   "cell_type": "code",
   "execution_count": 5,
   "metadata": {},
   "outputs": [],
   "source": [
    "#Store Products ID in Multidimensional array\n",
    "products =train[['P5DA', 'RIBP', '8NN1',\n",
    "       '7POT', '66FJ', 'GYSR', 'SOP4', 'RVSZ', 'PYUQ', 'LJR9', 'N2MW', 'AHXO',\n",
    "       'BSTQ', 'FM3X', 'K6QO', 'QBOL', 'JWFN', 'JZ9D', 'J9JW', 'GHYX', 'ECY3']]\n",
    "products_t =test[['P5DA', 'RIBP', '8NN1',\n",
    "       '7POT', '66FJ', 'GYSR', 'SOP4', 'RVSZ', 'PYUQ', 'LJR9', 'N2MW', 'AHXO',\n",
    "       'BSTQ', 'FM3X', 'K6QO', 'QBOL', 'JWFN', 'JZ9D', 'J9JW', 'GHYX', 'ECY3']]"
   ]
  },
  {
   "cell_type": "code",
   "execution_count": 6,
   "metadata": {},
   "outputs": [],
   "source": [
    "#Axis Transformation\n",
    "train = train.melt(id_vars=train.columns[:8], value_vars=products, var_name = \"PCODE\", value_name=\"Label\" )\n",
    "test = test.melt(id_vars=test.columns[:8], value_vars=products, var_name = \"PCODE\", value_name=\"Label\" )"
   ]
  },
  {
   "cell_type": "code",
   "execution_count": 7,
   "metadata": {},
   "outputs": [],
   "source": [
    "#A merger\n",
    "train['combiner']='x'"
   ]
  },
  {
   "cell_type": "code",
   "execution_count": 8,
   "metadata": {},
   "outputs": [],
   "source": [
    "#Set\n",
    "data=pd.concat([train,test],sort=False).reset_index(drop=True)"
   ]
  },
  {
   "cell_type": "code",
   "execution_count": 9,
   "metadata": {},
   "outputs": [
    {
     "data": {
      "text/html": [
       "<div>\n",
       "<style scoped>\n",
       "    .dataframe tbody tr th:only-of-type {\n",
       "        vertical-align: middle;\n",
       "    }\n",
       "\n",
       "    .dataframe tbody tr th {\n",
       "        vertical-align: top;\n",
       "    }\n",
       "\n",
       "    .dataframe thead th {\n",
       "        text-align: right;\n",
       "    }\n",
       "</style>\n",
       "<table border=\"1\" class=\"dataframe\">\n",
       "  <thead>\n",
       "    <tr style=\"text-align: right;\">\n",
       "      <th></th>\n",
       "      <th>ID</th>\n",
       "      <th>join_date</th>\n",
       "      <th>sex</th>\n",
       "      <th>marital_status</th>\n",
       "      <th>birth_year</th>\n",
       "      <th>branch_code</th>\n",
       "      <th>occupation_code</th>\n",
       "      <th>occupation_category_code</th>\n",
       "      <th>PCODE</th>\n",
       "      <th>Label</th>\n",
       "      <th>combiner</th>\n",
       "    </tr>\n",
       "  </thead>\n",
       "  <tbody>\n",
       "    <tr>\n",
       "      <th>773922</th>\n",
       "      <td>LPANLED</td>\n",
       "      <td>1/4/2020</td>\n",
       "      <td>M</td>\n",
       "      <td>U</td>\n",
       "      <td>1976</td>\n",
       "      <td>94KC</td>\n",
       "      <td>QZYX</td>\n",
       "      <td>90QI</td>\n",
       "      <td>JWFN</td>\n",
       "      <td>0</td>\n",
       "      <td>NaN</td>\n",
       "    </tr>\n",
       "    <tr>\n",
       "      <th>676951</th>\n",
       "      <td>616S5AG</td>\n",
       "      <td>1/12/2019</td>\n",
       "      <td>F</td>\n",
       "      <td>M</td>\n",
       "      <td>1975</td>\n",
       "      <td>30H5</td>\n",
       "      <td>0KID</td>\n",
       "      <td>T4MS</td>\n",
       "      <td>SOP4</td>\n",
       "      <td>0</td>\n",
       "      <td>NaN</td>\n",
       "    </tr>\n",
       "    <tr>\n",
       "      <th>457858</th>\n",
       "      <td>X48L140</td>\n",
       "      <td>1/4/2018</td>\n",
       "      <td>M</td>\n",
       "      <td>M</td>\n",
       "      <td>1979</td>\n",
       "      <td>UAOD</td>\n",
       "      <td>SST3</td>\n",
       "      <td>56SI</td>\n",
       "      <td>QBOL</td>\n",
       "      <td>0</td>\n",
       "      <td>x</td>\n",
       "    </tr>\n",
       "  </tbody>\n",
       "</table>\n",
       "</div>"
      ],
      "text/plain": [
       "             ID  join_date sex marital_status  birth_year branch_code  \\\n",
       "773922  LPANLED   1/4/2020   M              U        1976        94KC   \n",
       "676951  616S5AG  1/12/2019   F              M        1975        30H5   \n",
       "457858  X48L140   1/4/2018   M              M        1979        UAOD   \n",
       "\n",
       "       occupation_code occupation_category_code PCODE  Label combiner  \n",
       "773922            QZYX                     90QI  JWFN      0      NaN  \n",
       "676951            0KID                     T4MS  SOP4      0      NaN  \n",
       "457858            SST3                     56SI  QBOL      0        x  "
      ]
     },
     "execution_count": 9,
     "metadata": {},
     "output_type": "execute_result"
    }
   ],
   "source": [
    "#preview random 3 sample\n",
    "data.sample(3)"
   ]
  },
  {
   "cell_type": "code",
   "execution_count": 10,
   "metadata": {},
   "outputs": [
    {
     "name": "stdout",
     "output_type": "stream",
     "text": [
      "====================================\n",
      "TRAIN LABEL DISTRIBUTION\n",
      "====================================\n",
      "0    545419\n",
      "1     66353\n",
      "Name: Label, dtype: int64\n",
      "====================================\n",
      "TEST LABEL DISTRIBUTION\n",
      "====================================\n",
      "0    197147\n",
      "1     12853\n",
      "Name: Label, dtype: int64\n",
      "====================================\n",
      "SAMPLE SUBMISSION LABEL DISTRIBUTION\n",
      "====================================\n",
      "0    197147\n",
      "1     12853\n",
      "Name: Label, dtype: int64\n"
     ]
    }
   ],
   "source": [
    "#Confirm Distribution (TEST AND SAMPLE SUBMISSION FILE)\n",
    "print('==' * 18);print('TRAIN LABEL DISTRIBUTION');print('==' * 18);print(train['Label'].value_counts())\n",
    "print('==' * 18);print('TEST LABEL DISTRIBUTION');print('==' * 18);print(test['Label'].value_counts())\n",
    "print('==' * 18);print('SAMPLE SUBMISSION LABEL DISTRIBUTION');print('==' * 18);print(submission['Label'].value_counts())"
   ]
  },
  {
   "cell_type": "code",
   "execution_count": 11,
   "metadata": {},
   "outputs": [
    {
     "name": "stdout",
     "output_type": "stream",
     "text": [
      "(611772, 10) (210000, 9) (210000, 2)\n"
     ]
    }
   ],
   "source": [
    "train=data[data.combiner.notnull()].reset_index(drop=True);test=data[data.combiner.isna()].reset_index(drop=True)\n",
    "train.drop('combiner', inplace=True, axis=1);test.drop(['Label','combiner'], inplace=True, axis=1)\n",
    "print(train.shape, test.shape, submission.shape)"
   ]
  },
  {
   "cell_type": "code",
   "execution_count": 12,
   "metadata": {},
   "outputs": [],
   "source": [
    "#Concatenate new column towards submission requirement\n",
    "train['ID X PCODE'] = train['ID'] + ' X ' + train['PCODE']\n",
    "test['ID X PCODE'] = test['ID'] + ' X ' + test['PCODE']"
   ]
  },
  {
   "cell_type": "code",
   "execution_count": 13,
   "metadata": {},
   "outputs": [
    {
     "data": {
      "text/html": [
       "<div>\n",
       "<style scoped>\n",
       "    .dataframe tbody tr th:only-of-type {\n",
       "        vertical-align: middle;\n",
       "    }\n",
       "\n",
       "    .dataframe tbody tr th {\n",
       "        vertical-align: top;\n",
       "    }\n",
       "\n",
       "    .dataframe thead th {\n",
       "        text-align: right;\n",
       "    }\n",
       "</style>\n",
       "<table border=\"1\" class=\"dataframe\">\n",
       "  <thead>\n",
       "    <tr style=\"text-align: right;\">\n",
       "      <th></th>\n",
       "      <th>ID</th>\n",
       "      <th>join_date</th>\n",
       "      <th>sex</th>\n",
       "      <th>marital_status</th>\n",
       "      <th>birth_year</th>\n",
       "      <th>branch_code</th>\n",
       "      <th>occupation_code</th>\n",
       "      <th>occupation_category_code</th>\n",
       "      <th>PCODE</th>\n",
       "      <th>Label</th>\n",
       "      <th>ID X PCODE</th>\n",
       "    </tr>\n",
       "  </thead>\n",
       "  <tbody>\n",
       "    <tr>\n",
       "      <th>0</th>\n",
       "      <td>4WKQSBB</td>\n",
       "      <td>1/2/2019</td>\n",
       "      <td>F</td>\n",
       "      <td>M</td>\n",
       "      <td>1987</td>\n",
       "      <td>1X1H</td>\n",
       "      <td>2A7I</td>\n",
       "      <td>T4MS</td>\n",
       "      <td>P5DA</td>\n",
       "      <td>0</td>\n",
       "      <td>4WKQSBB X P5DA</td>\n",
       "    </tr>\n",
       "    <tr>\n",
       "      <th>1</th>\n",
       "      <td>CP5S02H</td>\n",
       "      <td>1/6/2019</td>\n",
       "      <td>F</td>\n",
       "      <td>M</td>\n",
       "      <td>1981</td>\n",
       "      <td>UAOD</td>\n",
       "      <td>2A7I</td>\n",
       "      <td>T4MS</td>\n",
       "      <td>P5DA</td>\n",
       "      <td>0</td>\n",
       "      <td>CP5S02H X P5DA</td>\n",
       "    </tr>\n",
       "    <tr>\n",
       "      <th>2</th>\n",
       "      <td>2YKDILJ</td>\n",
       "      <td>1/6/2013</td>\n",
       "      <td>M</td>\n",
       "      <td>U</td>\n",
       "      <td>1991</td>\n",
       "      <td>748L</td>\n",
       "      <td>QZYX</td>\n",
       "      <td>90QI</td>\n",
       "      <td>P5DA</td>\n",
       "      <td>0</td>\n",
       "      <td>2YKDILJ X P5DA</td>\n",
       "    </tr>\n",
       "    <tr>\n",
       "      <th>3</th>\n",
       "      <td>2S9E81J</td>\n",
       "      <td>1/8/2019</td>\n",
       "      <td>M</td>\n",
       "      <td>M</td>\n",
       "      <td>1990</td>\n",
       "      <td>1X1H</td>\n",
       "      <td>BP09</td>\n",
       "      <td>56SI</td>\n",
       "      <td>P5DA</td>\n",
       "      <td>0</td>\n",
       "      <td>2S9E81J X P5DA</td>\n",
       "    </tr>\n",
       "    <tr>\n",
       "      <th>4</th>\n",
       "      <td>BHDYVFT</td>\n",
       "      <td>1/8/2019</td>\n",
       "      <td>M</td>\n",
       "      <td>M</td>\n",
       "      <td>1990</td>\n",
       "      <td>748L</td>\n",
       "      <td>NO3L</td>\n",
       "      <td>T4MS</td>\n",
       "      <td>P5DA</td>\n",
       "      <td>0</td>\n",
       "      <td>BHDYVFT X P5DA</td>\n",
       "    </tr>\n",
       "  </tbody>\n",
       "</table>\n",
       "</div>"
      ],
      "text/plain": [
       "        ID join_date sex marital_status  birth_year branch_code  \\\n",
       "0  4WKQSBB  1/2/2019   F              M        1987        1X1H   \n",
       "1  CP5S02H  1/6/2019   F              M        1981        UAOD   \n",
       "2  2YKDILJ  1/6/2013   M              U        1991        748L   \n",
       "3  2S9E81J  1/8/2019   M              M        1990        1X1H   \n",
       "4  BHDYVFT  1/8/2019   M              M        1990        748L   \n",
       "\n",
       "  occupation_code occupation_category_code PCODE  Label      ID X PCODE  \n",
       "0            2A7I                     T4MS  P5DA      0  4WKQSBB X P5DA  \n",
       "1            2A7I                     T4MS  P5DA      0  CP5S02H X P5DA  \n",
       "2            QZYX                     90QI  P5DA      0  2YKDILJ X P5DA  \n",
       "3            BP09                     56SI  P5DA      0  2S9E81J X P5DA  \n",
       "4            NO3L                     T4MS  P5DA      0  BHDYVFT X P5DA  "
      ]
     },
     "execution_count": 13,
     "metadata": {},
     "output_type": "execute_result"
    }
   ],
   "source": [
    "train.head()"
   ]
  },
  {
   "cell_type": "code",
   "execution_count": 14,
   "metadata": {},
   "outputs": [
    {
     "data": {
      "text/html": [
       "<div>\n",
       "<style scoped>\n",
       "    .dataframe tbody tr th:only-of-type {\n",
       "        vertical-align: middle;\n",
       "    }\n",
       "\n",
       "    .dataframe tbody tr th {\n",
       "        vertical-align: top;\n",
       "    }\n",
       "\n",
       "    .dataframe thead th {\n",
       "        text-align: right;\n",
       "    }\n",
       "</style>\n",
       "<table border=\"1\" class=\"dataframe\">\n",
       "  <thead>\n",
       "    <tr style=\"text-align: right;\">\n",
       "      <th></th>\n",
       "      <th>ID</th>\n",
       "      <th>join_date</th>\n",
       "      <th>sex</th>\n",
       "      <th>marital_status</th>\n",
       "      <th>birth_year</th>\n",
       "      <th>branch_code</th>\n",
       "      <th>occupation_code</th>\n",
       "      <th>occupation_category_code</th>\n",
       "      <th>PCODE</th>\n",
       "      <th>ID X PCODE</th>\n",
       "    </tr>\n",
       "  </thead>\n",
       "  <tbody>\n",
       "    <tr>\n",
       "      <th>0</th>\n",
       "      <td>F86J5PC</td>\n",
       "      <td>1/12/2018</td>\n",
       "      <td>M</td>\n",
       "      <td>M</td>\n",
       "      <td>1984</td>\n",
       "      <td>94KC</td>\n",
       "      <td>DZRV</td>\n",
       "      <td>90QI</td>\n",
       "      <td>P5DA</td>\n",
       "      <td>F86J5PC X P5DA</td>\n",
       "    </tr>\n",
       "    <tr>\n",
       "      <th>1</th>\n",
       "      <td>H6141K3</td>\n",
       "      <td>1/10/2019</td>\n",
       "      <td>M</td>\n",
       "      <td>M</td>\n",
       "      <td>1996</td>\n",
       "      <td>1X1H</td>\n",
       "      <td>J9SY</td>\n",
       "      <td>90QI</td>\n",
       "      <td>P5DA</td>\n",
       "      <td>H6141K3 X P5DA</td>\n",
       "    </tr>\n",
       "    <tr>\n",
       "      <th>2</th>\n",
       "      <td>RBAYUXZ</td>\n",
       "      <td>1/1/2020</td>\n",
       "      <td>F</td>\n",
       "      <td>W</td>\n",
       "      <td>1968</td>\n",
       "      <td>UAOD</td>\n",
       "      <td>2A7I</td>\n",
       "      <td>T4MS</td>\n",
       "      <td>P5DA</td>\n",
       "      <td>RBAYUXZ X P5DA</td>\n",
       "    </tr>\n",
       "    <tr>\n",
       "      <th>3</th>\n",
       "      <td>KCBILBQ</td>\n",
       "      <td>1/2/2019</td>\n",
       "      <td>M</td>\n",
       "      <td>M</td>\n",
       "      <td>1989</td>\n",
       "      <td>94KC</td>\n",
       "      <td>2A7I</td>\n",
       "      <td>T4MS</td>\n",
       "      <td>P5DA</td>\n",
       "      <td>KCBILBQ X P5DA</td>\n",
       "    </tr>\n",
       "    <tr>\n",
       "      <th>4</th>\n",
       "      <td>LSEC1ZJ</td>\n",
       "      <td>1/2/2020</td>\n",
       "      <td>F</td>\n",
       "      <td>M</td>\n",
       "      <td>1982</td>\n",
       "      <td>UAOD</td>\n",
       "      <td>0KID</td>\n",
       "      <td>T4MS</td>\n",
       "      <td>P5DA</td>\n",
       "      <td>LSEC1ZJ X P5DA</td>\n",
       "    </tr>\n",
       "  </tbody>\n",
       "</table>\n",
       "</div>"
      ],
      "text/plain": [
       "        ID  join_date sex marital_status  birth_year branch_code  \\\n",
       "0  F86J5PC  1/12/2018   M              M        1984        94KC   \n",
       "1  H6141K3  1/10/2019   M              M        1996        1X1H   \n",
       "2  RBAYUXZ   1/1/2020   F              W        1968        UAOD   \n",
       "3  KCBILBQ   1/2/2019   M              M        1989        94KC   \n",
       "4  LSEC1ZJ   1/2/2020   F              M        1982        UAOD   \n",
       "\n",
       "  occupation_code occupation_category_code PCODE      ID X PCODE  \n",
       "0            DZRV                     90QI  P5DA  F86J5PC X P5DA  \n",
       "1            J9SY                     90QI  P5DA  H6141K3 X P5DA  \n",
       "2            2A7I                     T4MS  P5DA  RBAYUXZ X P5DA  \n",
       "3            2A7I                     T4MS  P5DA  KCBILBQ X P5DA  \n",
       "4            0KID                     T4MS  P5DA  LSEC1ZJ X P5DA  "
      ]
     },
     "execution_count": 14,
     "metadata": {},
     "output_type": "execute_result"
    }
   ],
   "source": [
    "test.head()"
   ]
  },
  {
   "cell_type": "markdown",
   "metadata": {},
   "source": [
    "### Explanatory Data Analysis"
   ]
  },
  {
   "cell_type": "code",
   "execution_count": null,
   "metadata": {},
   "outputs": [],
   "source": []
  },
  {
   "cell_type": "code",
   "execution_count": 15,
   "metadata": {},
   "outputs": [
    {
     "name": "stdout",
     "output_type": "stream",
     "text": [
      "----------\n",
      "object\n",
      "J6598VV    21\n",
      "19WFWTT    21\n",
      "HZC1Y1Z    21\n",
      "8OULCBF    21\n",
      "VPJFULL    21\n",
      "S5ASAJY    21\n",
      "S3BUCAK    21\n",
      "1O9S9WJ    21\n",
      "LGA3ACA    21\n",
      "2I0RT8I    21\n",
      "DQI1IVC    21\n",
      "KESJ5HL    21\n",
      "I5KVYRV    21\n",
      "K8KXH7W    21\n",
      "QPN2ED2    21\n",
      "06OF1DN    21\n",
      "VRGPNY7    21\n",
      "MI0YTTA    21\n",
      "TUU8EF6    21\n",
      "VSDCRX6    21\n",
      "HR0WXAZ    21\n",
      "3O8E7UE    21\n",
      "VNKFLXY    21\n",
      "4MMDDRM    21\n",
      "Y4LJYCS    21\n",
      "6UYL6PD    21\n",
      "P3YQ3EJ    21\n",
      "FTQ2JZ4    21\n",
      "S7T9FKP    21\n",
      "2D055KI    21\n",
      "           ..\n",
      "RC7XP1P    21\n",
      "XZ2XE24    21\n",
      "27Q9QX0    21\n",
      "947872U    21\n",
      "6M5I86I    21\n",
      "21ESGWR    21\n",
      "FB7GAVF    21\n",
      "ZP4S9TW    21\n",
      "CXMS6M3    21\n",
      "IOKEV5M    21\n",
      "K5G5P3R    21\n",
      "J602MBQ    21\n",
      "0TMUXVW    21\n",
      "TQB1EBB    21\n",
      "HGWNN4W    21\n",
      "6FGSIYD    21\n",
      "ZZO8LTD    21\n",
      "RPEC8KR    21\n",
      "95K6WPE    21\n",
      "AEXRSOW    21\n",
      "TKENYTH    21\n",
      "W6PKRMJ    21\n",
      "11CPAL4    21\n",
      "ZB9AUQ3    21\n",
      "G8HPIYN    21\n",
      "UE6MGJ6    21\n",
      "B0FD052    21\n",
      "W6AJ2GZ    21\n",
      "GWZP3AE    21\n",
      "GV5V2J6    21\n",
      "Name: ID, Length: 29132, dtype: int64\n",
      "Name:  ID\n",
      "----------\n",
      "object\n",
      "1/5/2018      27699\n",
      "1/5/2019      25179\n",
      "1/4/2018      23583\n",
      "1/4/2019      21903\n",
      "1/1/2019      15834\n",
      "1/7/2019      15561\n",
      "1/6/2019      15225\n",
      "1/8/2019      14826\n",
      "1/11/2019     14385\n",
      "1/12/2019     14133\n",
      "1/9/2019      13986\n",
      "1/12/2018     13083\n",
      "1/10/2019     12936\n",
      "1/6/2018      12936\n",
      "1/4/2020      12873\n",
      "1/1/2020      12138\n",
      "1/2/2019      11907\n",
      "1/11/2018     11193\n",
      "1/3/2019      11109\n",
      "1/5/2017      10479\n",
      "1/2/2020      10437\n",
      "1/9/2018      10290\n",
      "1/10/2018      9975\n",
      "1/12/2017      9954\n",
      "1/8/2018       9534\n",
      "1/10/2017      9513\n",
      "1/2/2018       9492\n",
      "1/3/2018       9429\n",
      "1/1/2018       9387\n",
      "1/8/2017       9324\n",
      "              ...  \n",
      "1/10/2011       672\n",
      "1/11/2012       651\n",
      "1/12/2012       630\n",
      "1/2/2012        609\n",
      "1/4/2011        567\n",
      "1/5/2011        525\n",
      "1/1/2012        525\n",
      "1/8/2011        525\n",
      "1/7/2011        525\n",
      "1/2/2013        441\n",
      "1/9/2010        441\n",
      "1/1/2011        315\n",
      "1/12/2010       273\n",
      "1/3/2011        252\n",
      "1/10/2010       210\n",
      "1/5/2010        168\n",
      "1/6/2010        126\n",
      "1/7/2010        126\n",
      "1/11/2010       126\n",
      "1/2/2011        126\n",
      "1/8/2020         63\n",
      "1/8/2010         63\n",
      "6/9/2012         42\n",
      "17/8/2012        42\n",
      "23/5/2013        21\n",
      "22/10/2012       21\n",
      "7/9/2012         21\n",
      "8/9/2012         21\n",
      "11/1/2013        21\n",
      "2/9/2012         21\n",
      "Name: join_date, Length: 132, dtype: int64\n",
      "Name:  join_date\n",
      "----------\n",
      "object\n",
      "M    426909\n",
      "F    184863\n",
      "Name: sex, dtype: int64\n",
      "Name:  sex\n",
      "----------\n",
      "object\n",
      "M    481173\n",
      "S     68607\n",
      "U     51954\n",
      "W      6321\n",
      "D      2835\n",
      "R       714\n",
      "P       147\n",
      "f        21\n",
      "Name: marital_status, dtype: int64\n",
      "Name:  marital_status\n",
      "----------\n",
      "int64\n",
      "count    611772.000000\n",
      "mean       1979.517060\n",
      "std           9.325452\n",
      "min        1932.000000\n",
      "25%        1973.000000\n",
      "50%        1980.000000\n",
      "75%        1987.000000\n",
      "max        2011.000000\n",
      "Name: birth_year, dtype: float64\n",
      "----------\n",
      "object\n",
      "748L    170856\n",
      "94KC     76818\n",
      "UAOD     73647\n",
      "E5SW     66885\n",
      "30H5     66171\n",
      "XX25     58905\n",
      "1X1H     27363\n",
      "O67J     23625\n",
      "ZFER     15687\n",
      "49BM     13041\n",
      "9F9T      9009\n",
      "BOAS      7287\n",
      "X23B      2079\n",
      "O4JC       210\n",
      "EU3L       189\n",
      "Name: branch_code, dtype: int64\n",
      "Name:  branch_code\n",
      "----------\n",
      "object\n",
      "2A7I    148869\n",
      "0KID     83349\n",
      "SST3     56931\n",
      "UJ5T     43659\n",
      "0OJM     32865\n",
      "BPSA     22911\n",
      "QZYX     17976\n",
      "31JW     14343\n",
      "0B60     11886\n",
      "BP09     11025\n",
      "RUFT      9576\n",
      "6PE7      9408\n",
      "6E4H      9198\n",
      "U37O      8442\n",
      "5FPK      7287\n",
      "3NHZ      6972\n",
      "J9SY      6783\n",
      "N2ZZ      5481\n",
      "YMGT      5208\n",
      "OPVX      5040\n",
      "WMTK      4935\n",
      "B8W8      4725\n",
      "PMAI      4557\n",
      "4W0D      3402\n",
      "7UDQ      3192\n",
      "P4MD      2604\n",
      "FSXG      2604\n",
      "APO0      2457\n",
      "I31I      2436\n",
      "K5LB      2352\n",
      "         ...  \n",
      "CAAV        21\n",
      "4M0E        21\n",
      "UYDZ        21\n",
      "YJXM        21\n",
      "5LNN        21\n",
      "URYD        21\n",
      "WSRG        21\n",
      "JSAX        21\n",
      "P2K2        21\n",
      "PJR4        21\n",
      "I2OD        21\n",
      "MEFQ        21\n",
      "PPNK        21\n",
      "5OVC        21\n",
      "1AN5        21\n",
      "2R78        21\n",
      "DD8W        21\n",
      "OEH6        21\n",
      "W3ZV        21\n",
      "OME4        21\n",
      "HSVE        21\n",
      "BFD1        21\n",
      "M0WG        21\n",
      "VZN9        21\n",
      "1DT6        21\n",
      "738L        21\n",
      "BX9E        21\n",
      "FLXH        21\n",
      "R7GL        21\n",
      "KBWO        21\n",
      "Name: occupation_code, Length: 233, dtype: int64\n",
      "Name:  occupation_code\n",
      "----------\n",
      "object\n",
      "T4MS    390999\n",
      "90QI    116592\n",
      "56SI     76755\n",
      "L44T     13188\n",
      "JD7X     12096\n",
      "AHH5      2142\n",
      "Name: occupation_category_code, dtype: int64\n",
      "Name:  occupation_category_code\n",
      "----------\n",
      "object\n",
      "FM3X    29132\n",
      "PYUQ    29132\n",
      "J9JW    29132\n",
      "AHXO    29132\n",
      "P5DA    29132\n",
      "QBOL    29132\n",
      "ECY3    29132\n",
      "GHYX    29132\n",
      "GYSR    29132\n",
      "LJR9    29132\n",
      "K6QO    29132\n",
      "BSTQ    29132\n",
      "8NN1    29132\n",
      "66FJ    29132\n",
      "JWFN    29132\n",
      "RIBP    29132\n",
      "RVSZ    29132\n",
      "JZ9D    29132\n",
      "SOP4    29132\n",
      "N2MW    29132\n",
      "7POT    29132\n",
      "Name: PCODE, dtype: int64\n",
      "Name:  PCODE\n",
      "----------\n",
      "int64\n",
      "count    611772.000000\n",
      "mean          0.108460\n",
      "std           0.310961\n",
      "min           0.000000\n",
      "25%           0.000000\n",
      "50%           0.000000\n",
      "75%           0.000000\n",
      "max           1.000000\n",
      "Name: Label, dtype: float64\n",
      "----------\n",
      "object\n",
      "VTT9IVA X GYSR    1\n",
      "5VV3OJR X GYSR    1\n",
      "1WAE4ZC X 8NN1    1\n",
      "N7TJYSV X LJR9    1\n",
      "GETLXLV X QBOL    1\n",
      "FWJY16D X BSTQ    1\n",
      "SDEX1EL X J9JW    1\n",
      "7VPSG79 X PYUQ    1\n",
      "G2P8829 X 66FJ    1\n",
      "VBJTSX2 X QBOL    1\n",
      "L5OXAYC X PYUQ    1\n",
      "JTDW2EB X RIBP    1\n",
      "0VPM4NK X FM3X    1\n",
      "B9E1AVO X BSTQ    1\n",
      "8RRZZGJ X LJR9    1\n",
      "6WN7G4U X AHXO    1\n",
      "H6Q3BYN X BSTQ    1\n",
      "H7DRE8K X P5DA    1\n",
      "ZCF5M3H X N2MW    1\n",
      "DWY5QIN X 7POT    1\n",
      "N4KB3NG X LJR9    1\n",
      "YR8NF5V X K6QO    1\n",
      "N6JCMWC X FM3X    1\n",
      "XXLNUDO X GYSR    1\n",
      "NRC5X7O X N2MW    1\n",
      "2TH7ZGH X P5DA    1\n",
      "B7R3GLL X QBOL    1\n",
      "30ZK1WW X JWFN    1\n",
      "Q9U9INJ X QBOL    1\n",
      "EYPSQ4R X JZ9D    1\n",
      "                 ..\n",
      "3HN99TV X 8NN1    1\n",
      "YW442B0 X FM3X    1\n",
      "ANK5FBT X GHYX    1\n",
      "IV6DZKC X JZ9D    1\n",
      "62B1Y9X X J9JW    1\n",
      "7H45SPN X AHXO    1\n",
      "FXZ91U4 X JZ9D    1\n",
      "AG7F3SI X GHYX    1\n",
      "759X4IX X GYSR    1\n",
      "B9044XP X P5DA    1\n",
      "SCRTMEE X K6QO    1\n",
      "ZUDLNQU X FM3X    1\n",
      "HJI00KO X QBOL    1\n",
      "4D77JXJ X SOP4    1\n",
      "A6KI30F X RIBP    1\n",
      "BZSQX8S X JZ9D    1\n",
      "0LQ1MOL X PYUQ    1\n",
      "EURUJTM X JWFN    1\n",
      "ZOVIYSU X RVSZ    1\n",
      "1Y7AIFG X 7POT    1\n",
      "YMH0SX5 X N2MW    1\n",
      "T6I58ZI X JZ9D    1\n",
      "83VMFK0 X RVSZ    1\n",
      "UMVF79S X RVSZ    1\n",
      "Q4D551F X BSTQ    1\n",
      "W1GIBZQ X QBOL    1\n",
      "H5DG0CZ X RIBP    1\n",
      "PJTQRFE X N2MW    1\n",
      "9SQ4REG X AHXO    1\n",
      "DLB5VYR X SOP4    1\n",
      "Name: ID X PCODE, Length: 611772, dtype: int64\n",
      "Name:  ID X PCODE\n"
     ]
    }
   ],
   "source": [
    "def examine_data_frame( df):\n",
    "    for name in df.columns:\n",
    "        print(\"----------\")\n",
    "        print(df[ name].dtype)\n",
    "        if df[name].dtype is np.dtype( 'O'):\n",
    "            print(df[name].value_counts())\n",
    "            print(\"Name: \", name)\n",
    "        else:\n",
    "            print(df[ name].describe())\n",
    "\n",
    "examine_data_frame(train)"
   ]
  },
  {
   "cell_type": "code",
   "execution_count": 16,
   "metadata": {},
   "outputs": [],
   "source": [
    "# Create \"Year\", \"Month\" & \"DayOfMonth\" for train\n",
    "train['join_date']= pd.to_datetime(train['join_date'], format= \"%d/%m/%Y\")\n",
    "train[\"join_year\"] = train[\"join_date\"].apply(lambda x: x.year)\n",
    "train[\"join_month\"] = train[\"join_date\"].apply(lambda x: x.month)\n",
    "train[\"join_day_of_month\"] = train[\"join_date\"].apply(lambda x: x.day)\n",
    "\n",
    "# Create \"Year\", \"Month\" & \"DayOfMonth\" for test\n",
    "test['join_date']= pd.to_datetime(test['join_date'], format= \"%d/%m/%Y\")\n",
    "test[\"join_year\"] = test[\"join_date\"].apply(lambda x: x.year)\n",
    "test[\"join_month\"] = test[\"join_date\"].apply(lambda x: x.month)\n",
    "test[\"join_day_of_month\"] = test[\"join_date\"].apply(lambda x: x.day)"
   ]
  },
  {
   "cell_type": "code",
   "execution_count": 17,
   "metadata": {},
   "outputs": [],
   "source": [
    "#calculate age from year of birth\n",
    "today = date.today()\n",
    "train['age']= train['birth_year'].apply(lambda x : today.year - x)\n",
    "\n",
    "test['age'] = test['birth_year'].apply(lambda x : today.year - x)"
   ]
  },
  {
   "cell_type": "code",
   "execution_count": 18,
   "metadata": {},
   "outputs": [
    {
     "data": {
      "text/html": [
       "<div>\n",
       "<style scoped>\n",
       "    .dataframe tbody tr th:only-of-type {\n",
       "        vertical-align: middle;\n",
       "    }\n",
       "\n",
       "    .dataframe tbody tr th {\n",
       "        vertical-align: top;\n",
       "    }\n",
       "\n",
       "    .dataframe thead th {\n",
       "        text-align: right;\n",
       "    }\n",
       "</style>\n",
       "<table border=\"1\" class=\"dataframe\">\n",
       "  <thead>\n",
       "    <tr style=\"text-align: right;\">\n",
       "      <th></th>\n",
       "      <th>ID</th>\n",
       "      <th>join_date</th>\n",
       "      <th>sex</th>\n",
       "      <th>marital_status</th>\n",
       "      <th>birth_year</th>\n",
       "      <th>branch_code</th>\n",
       "      <th>occupation_code</th>\n",
       "      <th>occupation_category_code</th>\n",
       "      <th>PCODE</th>\n",
       "      <th>Label</th>\n",
       "      <th>ID X PCODE</th>\n",
       "      <th>join_year</th>\n",
       "      <th>join_month</th>\n",
       "      <th>join_day_of_month</th>\n",
       "      <th>age</th>\n",
       "    </tr>\n",
       "  </thead>\n",
       "  <tbody>\n",
       "    <tr>\n",
       "      <th>0</th>\n",
       "      <td>4WKQSBB</td>\n",
       "      <td>2019-02-01</td>\n",
       "      <td>F</td>\n",
       "      <td>M</td>\n",
       "      <td>1987</td>\n",
       "      <td>1X1H</td>\n",
       "      <td>2A7I</td>\n",
       "      <td>T4MS</td>\n",
       "      <td>P5DA</td>\n",
       "      <td>0</td>\n",
       "      <td>4WKQSBB X P5DA</td>\n",
       "      <td>2019.0</td>\n",
       "      <td>2.0</td>\n",
       "      <td>1.0</td>\n",
       "      <td>33</td>\n",
       "    </tr>\n",
       "    <tr>\n",
       "      <th>1</th>\n",
       "      <td>CP5S02H</td>\n",
       "      <td>2019-06-01</td>\n",
       "      <td>F</td>\n",
       "      <td>M</td>\n",
       "      <td>1981</td>\n",
       "      <td>UAOD</td>\n",
       "      <td>2A7I</td>\n",
       "      <td>T4MS</td>\n",
       "      <td>P5DA</td>\n",
       "      <td>0</td>\n",
       "      <td>CP5S02H X P5DA</td>\n",
       "      <td>2019.0</td>\n",
       "      <td>6.0</td>\n",
       "      <td>1.0</td>\n",
       "      <td>39</td>\n",
       "    </tr>\n",
       "    <tr>\n",
       "      <th>2</th>\n",
       "      <td>2YKDILJ</td>\n",
       "      <td>2013-06-01</td>\n",
       "      <td>M</td>\n",
       "      <td>U</td>\n",
       "      <td>1991</td>\n",
       "      <td>748L</td>\n",
       "      <td>QZYX</td>\n",
       "      <td>90QI</td>\n",
       "      <td>P5DA</td>\n",
       "      <td>0</td>\n",
       "      <td>2YKDILJ X P5DA</td>\n",
       "      <td>2013.0</td>\n",
       "      <td>6.0</td>\n",
       "      <td>1.0</td>\n",
       "      <td>29</td>\n",
       "    </tr>\n",
       "    <tr>\n",
       "      <th>3</th>\n",
       "      <td>2S9E81J</td>\n",
       "      <td>2019-08-01</td>\n",
       "      <td>M</td>\n",
       "      <td>M</td>\n",
       "      <td>1990</td>\n",
       "      <td>1X1H</td>\n",
       "      <td>BP09</td>\n",
       "      <td>56SI</td>\n",
       "      <td>P5DA</td>\n",
       "      <td>0</td>\n",
       "      <td>2S9E81J X P5DA</td>\n",
       "      <td>2019.0</td>\n",
       "      <td>8.0</td>\n",
       "      <td>1.0</td>\n",
       "      <td>30</td>\n",
       "    </tr>\n",
       "    <tr>\n",
       "      <th>4</th>\n",
       "      <td>BHDYVFT</td>\n",
       "      <td>2019-08-01</td>\n",
       "      <td>M</td>\n",
       "      <td>M</td>\n",
       "      <td>1990</td>\n",
       "      <td>748L</td>\n",
       "      <td>NO3L</td>\n",
       "      <td>T4MS</td>\n",
       "      <td>P5DA</td>\n",
       "      <td>0</td>\n",
       "      <td>BHDYVFT X P5DA</td>\n",
       "      <td>2019.0</td>\n",
       "      <td>8.0</td>\n",
       "      <td>1.0</td>\n",
       "      <td>30</td>\n",
       "    </tr>\n",
       "  </tbody>\n",
       "</table>\n",
       "</div>"
      ],
      "text/plain": [
       "        ID  join_date sex marital_status  birth_year branch_code  \\\n",
       "0  4WKQSBB 2019-02-01   F              M        1987        1X1H   \n",
       "1  CP5S02H 2019-06-01   F              M        1981        UAOD   \n",
       "2  2YKDILJ 2013-06-01   M              U        1991        748L   \n",
       "3  2S9E81J 2019-08-01   M              M        1990        1X1H   \n",
       "4  BHDYVFT 2019-08-01   M              M        1990        748L   \n",
       "\n",
       "  occupation_code occupation_category_code PCODE  Label      ID X PCODE  \\\n",
       "0            2A7I                     T4MS  P5DA      0  4WKQSBB X P5DA   \n",
       "1            2A7I                     T4MS  P5DA      0  CP5S02H X P5DA   \n",
       "2            QZYX                     90QI  P5DA      0  2YKDILJ X P5DA   \n",
       "3            BP09                     56SI  P5DA      0  2S9E81J X P5DA   \n",
       "4            NO3L                     T4MS  P5DA      0  BHDYVFT X P5DA   \n",
       "\n",
       "   join_year  join_month  join_day_of_month  age  \n",
       "0     2019.0         2.0                1.0   33  \n",
       "1     2019.0         6.0                1.0   39  \n",
       "2     2013.0         6.0                1.0   29  \n",
       "3     2019.0         8.0                1.0   30  \n",
       "4     2019.0         8.0                1.0   30  "
      ]
     },
     "execution_count": 18,
     "metadata": {},
     "output_type": "execute_result"
    }
   ],
   "source": [
    "train.head()"
   ]
  },
  {
   "cell_type": "code",
   "execution_count": 19,
   "metadata": {},
   "outputs": [
    {
     "data": {
      "image/png": "[encoded data removed]",
      "text/plain": [
       "<Figure size 432x288 with 1 Axes>"
      ]
     },
     "metadata": {
      "needs_background": "light"
     },
     "output_type": "display_data"
    }
   ],
   "source": [
    "#sex count plot\n",
    "sns.countplot(train['sex'])\n",
    "plt.show()"
   ]
  },
  {
   "cell_type": "code",
   "execution_count": 20,
   "metadata": {},
   "outputs": [
    {
     "data": {
      "image/png": "[encoded data removed]",
      "text/plain": [
       "<Figure size 432x288 with 1 Axes>"
      ]
     },
     "metadata": {
      "needs_background": "light"
     },
     "output_type": "display_data"
    }
   ],
   "source": [
    "#marital status count plot\n",
    "sns.countplot(train['marital_status'])\n",
    "plt.show()"
   ]
  },
  {
   "cell_type": "code",
   "execution_count": 21,
   "metadata": {},
   "outputs": [
    {
     "data": {
      "image/png": "[encoded data removed]",
      "text/plain": [
       "<Figure size 432x288 with 1 Axes>"
      ]
     },
     "metadata": {
      "needs_background": "light"
     },
     "output_type": "display_data"
    }
   ],
   "source": [
    "#join year count plot\n",
    "sns.countplot(train['join_year'])\n",
    "plt.xticks(rotation=90)\n",
    "plt.show()"
   ]
  },
  {
   "cell_type": "code",
   "execution_count": 22,
   "metadata": {},
   "outputs": [
    {
     "data": {
      "image/png": "[encoded data removed]",
      "text/plain": [
       "<Figure size 432x288 with 1 Axes>"
      ]
     },
     "metadata": {
      "needs_background": "light"
     },
     "output_type": "display_data"
    }
   ],
   "source": [
    "#join month count plot\n",
    "sns.countplot(train['join_month'])\n",
    "plt.xticks(rotation=90)\n",
    "plt.show()"
   ]
  },
  {
   "cell_type": "code",
   "execution_count": 23,
   "metadata": {},
   "outputs": [
    {
     "data": {
      "image/png": "[encoded data removed]",
      "text/plain": [
       "<Figure size 432x288 with 1 Axes>"
      ]
     },
     "metadata": {
      "needs_background": "light"
     },
     "output_type": "display_data"
    }
   ],
   "source": [
    "#join day of month count plot\n",
    "sns.countplot(train['join_day_of_month'])\n",
    "plt.xticks(rotation=90)\n",
    "plt.show()"
   ]
  },
  {
   "cell_type": "code",
   "execution_count": 24,
   "metadata": {},
   "outputs": [
    {
     "data": {
      "image/png": "[encoded data removed]",
      "text/plain": [
       "<Figure size 432x288 with 1 Axes>"
      ]
     },
     "metadata": {
      "needs_background": "light"
     },
     "output_type": "display_data"
    }
   ],
   "source": [
    "#Branch code count plot\n",
    "sns.countplot(train['branch_code'])\n",
    "plt.xticks(rotation=90)\n",
    "plt.show()"
   ]
  },
  {
   "cell_type": "code",
   "execution_count": 25,
   "metadata": {},
   "outputs": [
    {
     "data": {
      "image/png": "[encoded data removed]",
      "text/plain": [
       "<Figure size 432x288 with 1 Axes>"
      ]
     },
     "metadata": {
      "needs_background": "light"
     },
     "output_type": "display_data"
    }
   ],
   "source": [
    "#Occupation category code count plot\n",
    "sns.countplot(train['occupation_category_code'])\n",
    "plt.xticks(rotation=90)\n",
    "plt.show()"
   ]
  },
  {
   "cell_type": "code",
   "execution_count": 26,
   "metadata": {},
   "outputs": [
    {
     "data": {
      "image/png": "[encoded data removed]",
      "text/plain": [
       "<Figure size 432x288 with 1 Axes>"
      ]
     },
     "metadata": {
      "needs_background": "light"
     },
     "output_type": "display_data"
    }
   ],
   "source": [
    "#Label count plot\n",
    "sns.countplot(train['Label'])\n",
    "plt.xticks(rotation=90)\n",
    "plt.show()"
   ]
  },
  {
   "cell_type": "code",
   "execution_count": 27,
   "metadata": {},
   "outputs": [
    {
     "data": {
      "image/png": "[encoded data removed]",
      "text/plain": [
       "<Figure size 432x288 with 1 Axes>"
      ]
     },
     "metadata": {
      "needs_background": "light"
     },
     "output_type": "display_data"
    }
   ],
   "source": [
    "#plot distribution of age\n",
    "train['age'].hist(bins=20)\n",
    "plt.xlabel(\"Age\")\n",
    "plt.ylabel(\"Count\")\n",
    "plt.title(\"Distribution of age\")\n",
    "plt.show()"
   ]
  },
  {
   "cell_type": "code",
   "execution_count": null,
   "metadata": {},
   "outputs": [],
   "source": []
  },
  {
   "cell_type": "markdown",
   "metadata": {},
   "source": [
    "### Bivariate data Analysis"
   ]
  },
  {
   "cell_type": "code",
   "execution_count": 28,
   "metadata": {},
   "outputs": [
    {
     "data": {
      "image/png": "[encoded data removed]",
      "text/plain": [
       "<Figure size 432x288 with 1 Axes>"
      ]
     },
     "metadata": {
      "needs_background": "light"
     },
     "output_type": "display_data"
    }
   ],
   "source": [
    "#sex count plot with Label\n",
    "sns.countplot(x= 'sex',hue=\"Label\",data=train)\n",
    "plt.show()"
   ]
  },
  {
   "cell_type": "code",
   "execution_count": 29,
   "metadata": {},
   "outputs": [
    {
     "data": {
      "image/png": "[encoded data removed]",
      "text/plain": [
       "<Figure size 1440x1080 with 9 Axes>"
      ]
     },
     "metadata": {
      "needs_background": "light"
     },
     "output_type": "display_data"
    }
   ],
   "source": [
    "catagorical_features = ['sex','marital_status','join_year',\"join_month\",'join_day_of_month',\n",
    "                        'branch_code','occupation_category_code']\n",
    "ROWS, COLS = 3, 3\n",
    "fig, ax = plt.subplots(ROWS, COLS, figsize=(20, 15))\n",
    "row, col = 0, 0\n",
    "for i, categorical_feature in enumerate(catagorical_features):\n",
    "    if col == COLS - 1:\n",
    "        row += 1\n",
    "    col = i % COLS\n",
    "    sns.countplot(x=categorical_feature,hue=\"Label\",data=train,ax=ax[row, col])\n",
    "#     train[categorical_feature].value_counts().plot('bar',hue=\"Label\", ax=ax[row, col])"
   ]
  },
  {
   "cell_type": "code",
   "execution_count": 30,
   "metadata": {},
   "outputs": [
    {
     "data": {
      "image/png": "[encoded data removed]",
      "text/plain": [
       "<Figure size 432x288 with 1 Axes>"
      ]
     },
     "metadata": {
      "needs_background": "light"
     },
     "output_type": "display_data"
    }
   ],
   "source": [
    "train[train.Label == 0]['age'].hist(bins=20, color=\"blue\", alpha=0.5)\n",
    "train[train.Label == 1]['age'].hist(bins=20, color=\"red\", alpha=0.5)\n",
    "plt.show()"
   ]
  },
  {
   "cell_type": "markdown",
   "metadata": {},
   "source": [
    "### Preprocessing the data"
   ]
  },
  {
   "cell_type": "code",
   "execution_count": 31,
   "metadata": {},
   "outputs": [
    {
     "data": {
      "text/plain": [
       "ID                           0\n",
       "join_date                   42\n",
       "sex                          0\n",
       "marital_status               0\n",
       "birth_year                   0\n",
       "branch_code                  0\n",
       "occupation_code              0\n",
       "occupation_category_code     0\n",
       "PCODE                        0\n",
       "Label                        0\n",
       "ID X PCODE                   0\n",
       "join_year                   42\n",
       "join_month                  42\n",
       "join_day_of_month           42\n",
       "age                          0\n",
       "dtype: int64"
      ]
     },
     "execution_count": 31,
     "metadata": {},
     "output_type": "execute_result"
    }
   ],
   "source": [
    "### Check for null values\n",
    "train.isna().sum()"
   ]
  },
  {
   "cell_type": "code",
   "execution_count": 32,
   "metadata": {},
   "outputs": [],
   "source": [
    "### dropping column with na\n",
    "train.dropna(inplace=True)"
   ]
  },
  {
   "cell_type": "code",
   "execution_count": 33,
   "metadata": {},
   "outputs": [
    {
     "data": {
      "text/plain": [
       "ID                          0\n",
       "join_date                   0\n",
       "sex                         0\n",
       "marital_status              0\n",
       "birth_year                  0\n",
       "branch_code                 0\n",
       "occupation_code             0\n",
       "occupation_category_code    0\n",
       "PCODE                       0\n",
       "Label                       0\n",
       "ID X PCODE                  0\n",
       "join_year                   0\n",
       "join_month                  0\n",
       "join_day_of_month           0\n",
       "age                         0\n",
       "dtype: int64"
      ]
     },
     "execution_count": 33,
     "metadata": {},
     "output_type": "execute_result"
    }
   ],
   "source": [
    "train.isna().sum()"
   ]
  },
  {
   "cell_type": "markdown",
   "metadata": {},
   "source": [
    "### Encoding"
   ]
  },
  {
   "cell_type": "code",
   "execution_count": 34,
   "metadata": {},
   "outputs": [],
   "source": [
    "# encoding the binary feature\n",
    "from sklearn.preprocessing import LabelEncoder\n",
    "encoder = LabelEncoder()\n",
    "train['sex'] = encoder.fit_transform(train['sex'])"
   ]
  },
  {
   "cell_type": "code",
   "execution_count": 35,
   "metadata": {},
   "outputs": [],
   "source": [
    "test['sex'] = encoder.fit_transform(test['sex'])"
   ]
  },
  {
   "cell_type": "markdown",
   "metadata": {},
   "source": [
    "#### Handling Nominal features"
   ]
  },
  {
   "cell_type": "code",
   "execution_count": 36,
   "metadata": {},
   "outputs": [],
   "source": [
    "# transform data\n",
    "columns_to_encode = ['marital_status','branch_code','occupation_category_code','join_year','join_month','PCODE']\n",
    "train = pd.get_dummies(train, columns=columns_to_encode,\n",
    "                                     drop_first=True)\n",
    "test = pd.get_dummies(test, columns=columns_to_encode,\n",
    "                                     drop_first=True)"
   ]
  },
  {
   "cell_type": "code",
   "execution_count": 37,
   "metadata": {},
   "outputs": [
    {
     "data": {
      "text/plain": [
       "Index(['ID', 'join_date', 'sex', 'birth_year', 'occupation_code', 'Label',\n",
       "       'ID X PCODE', 'join_day_of_month', 'age', 'marital_status_M',\n",
       "       'marital_status_P', 'marital_status_R', 'marital_status_S',\n",
       "       'marital_status_U', 'marital_status_W', 'marital_status_f',\n",
       "       'branch_code_30H5', 'branch_code_49BM', 'branch_code_748L',\n",
       "       'branch_code_94KC', 'branch_code_9F9T', 'branch_code_BOAS',\n",
       "       'branch_code_E5SW', 'branch_code_EU3L', 'branch_code_O4JC',\n",
       "       'branch_code_O67J', 'branch_code_UAOD', 'branch_code_X23B',\n",
       "       'branch_code_XX25', 'branch_code_ZFER', 'occupation_category_code_90QI',\n",
       "       'occupation_category_code_AHH5', 'occupation_category_code_JD7X',\n",
       "       'occupation_category_code_L44T', 'occupation_category_code_T4MS',\n",
       "       'join_year_2011.0', 'join_year_2012.0', 'join_year_2013.0',\n",
       "       'join_year_2014.0', 'join_year_2015.0', 'join_year_2016.0',\n",
       "       'join_year_2017.0', 'join_year_2018.0', 'join_year_2019.0',\n",
       "       'join_year_2020.0', 'join_month_2.0', 'join_month_3.0',\n",
       "       'join_month_4.0', 'join_month_5.0', 'join_month_6.0', 'join_month_7.0',\n",
       "       'join_month_8.0', 'join_month_9.0', 'join_month_10.0',\n",
       "       'join_month_11.0', 'join_month_12.0', 'PCODE_7POT', 'PCODE_8NN1',\n",
       "       'PCODE_AHXO', 'PCODE_BSTQ', 'PCODE_ECY3', 'PCODE_FM3X', 'PCODE_GHYX',\n",
       "       'PCODE_GYSR', 'PCODE_J9JW', 'PCODE_JWFN', 'PCODE_JZ9D', 'PCODE_K6QO',\n",
       "       'PCODE_LJR9', 'PCODE_N2MW', 'PCODE_P5DA', 'PCODE_PYUQ', 'PCODE_QBOL',\n",
       "       'PCODE_RIBP', 'PCODE_RVSZ', 'PCODE_SOP4'],\n",
       "      dtype='object')"
      ]
     },
     "execution_count": 37,
     "metadata": {},
     "output_type": "execute_result"
    }
   ],
   "source": [
    "train.columns"
   ]
  },
  {
   "cell_type": "code",
   "execution_count": 38,
   "metadata": {},
   "outputs": [],
   "source": [
    "# dropping column that we dont use in the model\n",
    "train.drop(columns= ['join_date', 'birth_year','occupation_code','join_day_of_month','ID X PCODE','ID'], inplace= True)"
   ]
  },
  {
   "cell_type": "code",
   "execution_count": 103,
   "metadata": {},
   "outputs": [],
   "source": [
    "# Separate majority and minority classes\n",
    "#Label_0 = train[train.Label==0]\n",
    "#Label_1= train[train.Label==1]"
   ]
  },
  {
   "cell_type": "code",
   "execution_count": 105,
   "metadata": {},
   "outputs": [],
   "source": [
    "#up sample deposit yes\n",
    "#from sklearn.utils import resample\n",
    "#Label_1_upsampled = resample(Label_1, replace=True, n_samples=len(Label_0), random_state=0)"
   ]
  },
  {
   "cell_type": "code",
   "execution_count": 106,
   "metadata": {},
   "outputs": [],
   "source": [
    "#upsampled_train = pd.concat([Label_0, Label_1_upsampled])"
   ]
  },
  {
   "cell_type": "code",
   "execution_count": 39,
   "metadata": {},
   "outputs": [],
   "source": [
    "X = train.drop(columns = ['Label'])\n",
    "y = train[['Label']]"
   ]
  },
  {
   "cell_type": "code",
   "execution_count": 40,
   "metadata": {},
   "outputs": [
    {
     "data": {
      "text/plain": [
       "Index(['sex', 'age', 'marital_status_M', 'marital_status_P',\n",
       "       'marital_status_R', 'marital_status_S', 'marital_status_U',\n",
       "       'marital_status_W', 'marital_status_f', 'branch_code_30H5',\n",
       "       'branch_code_49BM', 'branch_code_748L', 'branch_code_94KC',\n",
       "       'branch_code_9F9T', 'branch_code_BOAS', 'branch_code_E5SW',\n",
       "       'branch_code_EU3L', 'branch_code_O4JC', 'branch_code_O67J',\n",
       "       'branch_code_UAOD', 'branch_code_X23B', 'branch_code_XX25',\n",
       "       'branch_code_ZFER', 'occupation_category_code_90QI',\n",
       "       'occupation_category_code_AHH5', 'occupation_category_code_JD7X',\n",
       "       'occupation_category_code_L44T', 'occupation_category_code_T4MS',\n",
       "       'join_year_2011.0', 'join_year_2012.0', 'join_year_2013.0',\n",
       "       'join_year_2014.0', 'join_year_2015.0', 'join_year_2016.0',\n",
       "       'join_year_2017.0', 'join_year_2018.0', 'join_year_2019.0',\n",
       "       'join_year_2020.0', 'join_month_2.0', 'join_month_3.0',\n",
       "       'join_month_4.0', 'join_month_5.0', 'join_month_6.0', 'join_month_7.0',\n",
       "       'join_month_8.0', 'join_month_9.0', 'join_month_10.0',\n",
       "       'join_month_11.0', 'join_month_12.0', 'PCODE_7POT', 'PCODE_8NN1',\n",
       "       'PCODE_AHXO', 'PCODE_BSTQ', 'PCODE_ECY3', 'PCODE_FM3X', 'PCODE_GHYX',\n",
       "       'PCODE_GYSR', 'PCODE_J9JW', 'PCODE_JWFN', 'PCODE_JZ9D', 'PCODE_K6QO',\n",
       "       'PCODE_LJR9', 'PCODE_N2MW', 'PCODE_P5DA', 'PCODE_PYUQ', 'PCODE_QBOL',\n",
       "       'PCODE_RIBP', 'PCODE_RVSZ', 'PCODE_SOP4'],\n",
       "      dtype='object')"
      ]
     },
     "execution_count": 40,
     "metadata": {},
     "output_type": "execute_result"
    }
   ],
   "source": [
    "X.columns"
   ]
  },
  {
   "cell_type": "markdown",
   "metadata": {},
   "source": [
    "### Dimensionality Reduction and Normalization"
   ]
  },
  {
   "cell_type": "code",
   "execution_count": 41,
   "metadata": {},
   "outputs": [],
   "source": [
    "from sklearn.preprocessing import MinMaxScaler\n",
    "# define min max scaler\n",
    "scaler = MinMaxScaler()\n",
    "# transform data\n",
    "columns_to_scale= ['age']\n",
    "X[columns_to_scale]  = scaler.fit_transform(X[columns_to_scale])"
   ]
  },
  {
   "cell_type": "code",
   "execution_count": 42,
   "metadata": {},
   "outputs": [
    {
     "data": {
      "text/plain": [
       "PCA()"
      ]
     },
     "execution_count": 42,
     "metadata": {},
     "output_type": "execute_result"
    }
   ],
   "source": [
    "from sklearn.decomposition import PCA\n",
    "# Make an instance of the Model\n",
    "pca = PCA()\n",
    "pca.fit(X)"
   ]
  },
  {
   "cell_type": "code",
   "execution_count": 43,
   "metadata": {},
   "outputs": [
    {
     "data": {
      "text/plain": [
       "Text(0, 0.5, 'Cumulativie Explained Varaince')"
      ]
     },
     "execution_count": 43,
     "metadata": {},
     "output_type": "execute_result"
    },
    {
     "data": {
      "image/png": "[encoded data removed]",
      "text/plain": [
       "<Figure size 864x648 with 1 Axes>"
      ]
     },
     "metadata": {
      "needs_background": "light"
     },
     "output_type": "display_data"
    }
   ],
   "source": [
    "plt.figure(figsize=(12,9))\n",
    "plt.plot(range(1,70),pca.explained_variance_ratio_.cumsum(), marker='o',linestyle='--')\n",
    "plt.title(\"Explained variable by Components\")\n",
    "plt.xlabel(\"Number of Components\")\n",
    "plt.ylabel(\"Cumulativie Explained Varaince\")"
   ]
  },
  {
   "cell_type": "markdown",
   "metadata": {},
   "source": [
    "We can choose PCA of 45-50"
   ]
  },
  {
   "cell_type": "markdown",
   "metadata": {},
   "source": [
    "## Model"
   ]
  },
  {
   "cell_type": "code",
   "execution_count": null,
   "metadata": {},
   "outputs": [],
   "source": [
    "# Fit the model"
   ]
  },
  {
   "cell_type": "code",
   "execution_count": null,
   "metadata": {},
   "outputs": [
    {
     "name": "stderr",
     "output_type": "stream",
     "text": [
      "C:\\Users\\owner pc\\Anaconda3\\lib\\site-packages\\sklearn\\utils\\validation.py:73: DataConversionWarning: A column-vector y was passed when a 1d array was expected. Please change the shape of y to (n_samples, ), for example using ravel().\n",
      "  return f(**kwargs)\n",
      "C:\\Users\\owner pc\\Anaconda3\\lib\\site-packages\\sklearn\\utils\\validation.py:73: DataConversionWarning: A column-vector y was passed when a 1d array was expected. Please change the shape of y to (n_samples, ), for example using ravel().\n",
      "  return f(**kwargs)\n"
     ]
    }
   ],
   "source": [
    "from xgboost import XGBClassifier\n",
    "from sklearn.decomposition import PCA\n",
    "from sklearn.pipeline import Pipeline\n",
    "from sklearn.metrics import matthews_corrcoef, roc_auc_score\n",
    "\n",
    "#Create a pipeline for PCA & XGBClassifier\n",
    "model = Pipeline(steps=[('pca', PCA(n_components=50)), \n",
    "                            ('xgb', XGBClassifier(learning_rate =0.1,\n",
    "                                                 n_estimators=1000,\n",
    "                                                 max_depth=5,\n",
    "                                                 min_child_weight=1,\n",
    "                                                 gamma=0,\n",
    "                                                 subsample=0.8,\n",
    "                                                 colsample_bytree=0.8,\n",
    "                                                 objective= 'binary:logistic',\n",
    "                                                 nthread=4,\n",
    "                                                 scale_pos_weight=1,\n",
    "                                                 seed=27))\n",
    "                       ])\n",
    "model.fit(X,y)"
   ]
  },
  {
   "cell_type": "code",
   "execution_count": null,
   "metadata": {},
   "outputs": [],
   "source": [
    "# Predict train and save "
   ]
  },
  {
   "cell_type": "code",
   "execution_count": 89,
   "metadata": {},
   "outputs": [],
   "source": [
    "ids = test[\"ID X PCODE\"]"
   ]
  },
  {
   "cell_type": "code",
   "execution_count": 90,
   "metadata": {},
   "outputs": [],
   "source": [
    "# dropping column that we dont use in the model\n",
    "test.drop(columns= ['join_date', 'birth_year','occupation_code','join_day_of_month','ID X PCODE','ID'], inplace= True)"
   ]
  },
  {
   "cell_type": "code",
   "execution_count": 110,
   "metadata": {},
   "outputs": [],
   "source": [
    "Y_pred = model.predict(test)\n",
    "predictions = pd.Series()\n",
    "predictions = predictions.append(pd.Series(Y_pred, index=ids))"
   ]
  },
  {
   "cell_type": "code",
   "execution_count": 111,
   "metadata": {},
   "outputs": [],
   "source": [
    "submission = pd.DataFrame({\"ID X PCODE\": predictions.index, \"Label\": predictions.values})\n",
    "submission.to_csv(\"submission.csv\", index=False)"
   ]
  },
  {
   "cell_type": "code",
   "execution_count": null,
   "metadata": {},
   "outputs": [],
   "source": []
  }
 ],
 "metadata": {
  "kernelspec": {
   "display_name": "Python 3",
   "language": "python",
   "name": "python3"
  },
  "language_info": {
   "codemirror_mode": {
    "name": "ipython",
    "version": 3
   },
   "file_extension": ".py",
   "mimetype": "text/x-python",
   "name": "python",
   "nbconvert_exporter": "python",
   "pygments_lexer": "ipython3",
   "version": "3.6.7"
  }
 },
 "nbformat": 4,
 "nbformat_minor": 2
}
